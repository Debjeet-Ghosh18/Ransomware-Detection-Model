{
 "cells": [
  {
   "cell_type": "code",
   "execution_count": 3,
   "id": "300ac2df-d272-4fc1-aaa8-8e35b5d94784",
   "metadata": {},
   "outputs": [],
   "source": [
    "# Basic libraries\n",
    "import pandas as pd\n",
    "import numpy as np\n",
    "import matplotlib.pyplot as plt\n",
    "import seaborn as sns\n",
    "\n",
    "# Machine Learning\n",
    "from sklearn.model_selection import train_test_split\n",
    "from sklearn.ensemble import RandomForestClassifier\n",
    "from sklearn.metrics import (\n",
    "    accuracy_score,\n",
    "    classification_report,\n",
    "    confusion_matrix,\n",
    "    roc_auc_score\n",
    ")\n",
    "\n",
    "# Save model\n",
    "import joblib"
   ]
  },
  {
   "cell_type": "code",
   "execution_count": 4,
   "id": "c8c6feda-c8f0-423f-846c-6d0007d04d8c",
   "metadata": {},
   "outputs": [
    {
     "name": "stdout",
     "output_type": "stream",
     "text": [
      "✅ Dataset Loaded Successfully\n"
     ]
    },
    {
     "data": {
      "text/html": [
       "<div>\n",
       "<style scoped>\n",
       "    .dataframe tbody tr th:only-of-type {\n",
       "        vertical-align: middle;\n",
       "    }\n",
       "\n",
       "    .dataframe tbody tr th {\n",
       "        vertical-align: top;\n",
       "    }\n",
       "\n",
       "    .dataframe thead th {\n",
       "        text-align: right;\n",
       "    }\n",
       "</style>\n",
       "<table border=\"1\" class=\"dataframe\">\n",
       "  <thead>\n",
       "    <tr style=\"text-align: right;\">\n",
       "      <th></th>\n",
       "      <th>FileName</th>\n",
       "      <th>md5Hash</th>\n",
       "      <th>Machine</th>\n",
       "      <th>DebugSize</th>\n",
       "      <th>DebugRVA</th>\n",
       "      <th>MajorImageVersion</th>\n",
       "      <th>MajorOSVersion</th>\n",
       "      <th>ExportRVA</th>\n",
       "      <th>ExportSize</th>\n",
       "      <th>IatVRA</th>\n",
       "      <th>MajorLinkerVersion</th>\n",
       "      <th>MinorLinkerVersion</th>\n",
       "      <th>NumberOfSections</th>\n",
       "      <th>SizeOfStackReserve</th>\n",
       "      <th>DllCharacteristics</th>\n",
       "      <th>ResourceSize</th>\n",
       "      <th>BitcoinAddresses</th>\n",
       "      <th>Benign</th>\n",
       "    </tr>\n",
       "  </thead>\n",
       "  <tbody>\n",
       "    <tr>\n",
       "      <th>0</th>\n",
       "      <td>0124e21d-018c-4ce0-92a3-b9e205a76bc0.dll</td>\n",
       "      <td>79755c51e413ed3c6be4635fd729a6e1</td>\n",
       "      <td>332</td>\n",
       "      <td>0</td>\n",
       "      <td>0</td>\n",
       "      <td>0</td>\n",
       "      <td>4</td>\n",
       "      <td>0</td>\n",
       "      <td>0</td>\n",
       "      <td>8192</td>\n",
       "      <td>8</td>\n",
       "      <td>0</td>\n",
       "      <td>3</td>\n",
       "      <td>1048576</td>\n",
       "      <td>34112</td>\n",
       "      <td>672</td>\n",
       "      <td>0</td>\n",
       "      <td>1</td>\n",
       "    </tr>\n",
       "    <tr>\n",
       "      <th>1</th>\n",
       "      <td>05c8318f98a5d301d80000009c316005.vertdll.dll</td>\n",
       "      <td>95e19f3657d34a432eada93221b0ea16</td>\n",
       "      <td>34404</td>\n",
       "      <td>84</td>\n",
       "      <td>121728</td>\n",
       "      <td>10</td>\n",
       "      <td>10</td>\n",
       "      <td>126576</td>\n",
       "      <td>4930</td>\n",
       "      <td>0</td>\n",
       "      <td>14</td>\n",
       "      <td>10</td>\n",
       "      <td>8</td>\n",
       "      <td>262144</td>\n",
       "      <td>16864</td>\n",
       "      <td>1024</td>\n",
       "      <td>0</td>\n",
       "      <td>1</td>\n",
       "    </tr>\n",
       "    <tr>\n",
       "      <th>2</th>\n",
       "      <td>06054fba-5619-4a86-a861-ffb0464bef5d.dll</td>\n",
       "      <td>85c32641d77a54e19ba8ea4ab305c791</td>\n",
       "      <td>332</td>\n",
       "      <td>0</td>\n",
       "      <td>0</td>\n",
       "      <td>0</td>\n",
       "      <td>4</td>\n",
       "      <td>0</td>\n",
       "      <td>0</td>\n",
       "      <td>8192</td>\n",
       "      <td>8</td>\n",
       "      <td>0</td>\n",
       "      <td>3</td>\n",
       "      <td>1048576</td>\n",
       "      <td>34112</td>\n",
       "      <td>672</td>\n",
       "      <td>0</td>\n",
       "      <td>1</td>\n",
       "    </tr>\n",
       "    <tr>\n",
       "      <th>3</th>\n",
       "      <td>075822ac99a5d301660400009c316005.adhapi.dll</td>\n",
       "      <td>62e3b959d982ef534b66f819fe15f085</td>\n",
       "      <td>34404</td>\n",
       "      <td>84</td>\n",
       "      <td>19904</td>\n",
       "      <td>10</td>\n",
       "      <td>10</td>\n",
       "      <td>21312</td>\n",
       "      <td>252</td>\n",
       "      <td>18160</td>\n",
       "      <td>14</td>\n",
       "      <td>10</td>\n",
       "      <td>6</td>\n",
       "      <td>262144</td>\n",
       "      <td>16736</td>\n",
       "      <td>1040</td>\n",
       "      <td>0</td>\n",
       "      <td>1</td>\n",
       "    </tr>\n",
       "    <tr>\n",
       "      <th>4</th>\n",
       "      <td>090607dd9ba5d301ca0900009c316005.SensorsNative...</td>\n",
       "      <td>ae38c5f7d313ad0ff3bfb8826476767f</td>\n",
       "      <td>34404</td>\n",
       "      <td>84</td>\n",
       "      <td>97728</td>\n",
       "      <td>10</td>\n",
       "      <td>10</td>\n",
       "      <td>105792</td>\n",
       "      <td>1852</td>\n",
       "      <td>70592</td>\n",
       "      <td>14</td>\n",
       "      <td>10</td>\n",
       "      <td>7</td>\n",
       "      <td>262144</td>\n",
       "      <td>16736</td>\n",
       "      <td>1096</td>\n",
       "      <td>0</td>\n",
       "      <td>1</td>\n",
       "    </tr>\n",
       "  </tbody>\n",
       "</table>\n",
       "</div>"
      ],
      "text/plain": [
       "                                            FileName  \\\n",
       "0           0124e21d-018c-4ce0-92a3-b9e205a76bc0.dll   \n",
       "1       05c8318f98a5d301d80000009c316005.vertdll.dll   \n",
       "2           06054fba-5619-4a86-a861-ffb0464bef5d.dll   \n",
       "3        075822ac99a5d301660400009c316005.adhapi.dll   \n",
       "4  090607dd9ba5d301ca0900009c316005.SensorsNative...   \n",
       "\n",
       "                            md5Hash  Machine  DebugSize  DebugRVA  \\\n",
       "0  79755c51e413ed3c6be4635fd729a6e1      332          0         0   \n",
       "1  95e19f3657d34a432eada93221b0ea16    34404         84    121728   \n",
       "2  85c32641d77a54e19ba8ea4ab305c791      332          0         0   \n",
       "3  62e3b959d982ef534b66f819fe15f085    34404         84     19904   \n",
       "4  ae38c5f7d313ad0ff3bfb8826476767f    34404         84     97728   \n",
       "\n",
       "   MajorImageVersion  MajorOSVersion  ExportRVA  ExportSize  IatVRA  \\\n",
       "0                  0               4          0           0    8192   \n",
       "1                 10              10     126576        4930       0   \n",
       "2                  0               4          0           0    8192   \n",
       "3                 10              10      21312         252   18160   \n",
       "4                 10              10     105792        1852   70592   \n",
       "\n",
       "   MajorLinkerVersion  MinorLinkerVersion  NumberOfSections  \\\n",
       "0                   8                   0                 3   \n",
       "1                  14                  10                 8   \n",
       "2                   8                   0                 3   \n",
       "3                  14                  10                 6   \n",
       "4                  14                  10                 7   \n",
       "\n",
       "   SizeOfStackReserve  DllCharacteristics  ResourceSize  BitcoinAddresses  \\\n",
       "0             1048576               34112           672                 0   \n",
       "1              262144               16864          1024                 0   \n",
       "2             1048576               34112           672                 0   \n",
       "3              262144               16736          1040                 0   \n",
       "4              262144               16736          1096                 0   \n",
       "\n",
       "   Benign  \n",
       "0       1  \n",
       "1       1  \n",
       "2       1  \n",
       "3       1  \n",
       "4       1  "
      ]
     },
     "execution_count": 4,
     "metadata": {},
     "output_type": "execute_result"
    }
   ],
   "source": [
    "df = pd.read_csv(r\"D:\\Downloads\\data_file.csv\")\n",
    "print(\"✅ Dataset Loaded Successfully\")\n",
    "df.head()"
   ]
  },
  {
   "cell_type": "code",
   "execution_count": 5,
   "id": "92c7c4de-3727-411a-b359-40ef0dd599e4",
   "metadata": {},
   "outputs": [
    {
     "name": "stdout",
     "output_type": "stream",
     "text": [
      "<class 'pandas.core.frame.DataFrame'>\n",
      "RangeIndex: 62485 entries, 0 to 62484\n",
      "Data columns (total 18 columns):\n",
      " #   Column              Non-Null Count  Dtype \n",
      "---  ------              --------------  ----- \n",
      " 0   FileName            62485 non-null  object\n",
      " 1   md5Hash             62485 non-null  object\n",
      " 2   Machine             62485 non-null  int64 \n",
      " 3   DebugSize           62485 non-null  int64 \n",
      " 4   DebugRVA            62485 non-null  int64 \n",
      " 5   MajorImageVersion   62485 non-null  int64 \n",
      " 6   MajorOSVersion      62485 non-null  int64 \n",
      " 7   ExportRVA           62485 non-null  int64 \n",
      " 8   ExportSize          62485 non-null  int64 \n",
      " 9   IatVRA              62485 non-null  int64 \n",
      " 10  MajorLinkerVersion  62485 non-null  int64 \n",
      " 11  MinorLinkerVersion  62485 non-null  int64 \n",
      " 12  NumberOfSections    62485 non-null  int64 \n",
      " 13  SizeOfStackReserve  62485 non-null  int64 \n",
      " 14  DllCharacteristics  62485 non-null  int64 \n",
      " 15  ResourceSize        62485 non-null  int64 \n",
      " 16  BitcoinAddresses    62485 non-null  int64 \n",
      " 17  Benign              62485 non-null  int64 \n",
      "dtypes: int64(16), object(2)\n",
      "memory usage: 8.6+ MB\n",
      "0 missing values found\n",
      "Index(['FileName', 'md5Hash', 'Machine', 'DebugSize', 'DebugRVA',\n",
      "       'MajorImageVersion', 'MajorOSVersion', 'ExportRVA', 'ExportSize',\n",
      "       'IatVRA', 'MajorLinkerVersion', 'MinorLinkerVersion',\n",
      "       'NumberOfSections', 'SizeOfStackReserve', 'DllCharacteristics',\n",
      "       'ResourceSize', 'BitcoinAddresses', 'Benign'],\n",
      "      dtype='object')\n"
     ]
    }
   ],
   "source": [
    "df.info()\n",
    "df.describe()\n",
    "\n",
    "# Check missing values\n",
    "print(df.isnull().sum().sum(), \"missing values found\")\n",
    "\n",
    "# Check label column (might be 'label', 'class', 'target', etc.)\n",
    "print(df.columns)\n"
   ]
  },
  {
   "cell_type": "code",
   "execution_count": 6,
   "id": "faa36a8d-b0f7-4ae3-b860-623b7fdb431b",
   "metadata": {},
   "outputs": [
    {
     "name": "stdout",
     "output_type": "stream",
     "text": [
      "✅ Found target column: Benign\n",
      "✅ Features shape: (62485, 15)\n",
      "✅ Labels shape: (62485,)\n",
      "✅ Label unique values: [1 0]\n"
     ]
    }
   ],
   "source": [
    "# Keep only numeric columns\n",
    "# Keep only numeric columns\n",
    "df = df.select_dtypes(include=[np.number])\n",
    "\n",
    "# Replace missing values with 0\n",
    "df = df.fillna(0)\n",
    "\n",
    "# Define the correct target column manually\n",
    "target_col = 'Benign'  # ✅ this is your label column\n",
    "\n",
    "# Separate features and labels\n",
    "X = df.drop(columns=[target_col])\n",
    "y = df[target_col]\n",
    "\n",
    "print(\"✅ Found target column:\", target_col)\n",
    "print(\"✅ Features shape:\", X.shape)\n",
    "print(\"✅ Labels shape:\", y.shape)\n",
    "print(\"✅ Label unique values:\", y.unique())\n"
   ]
  },
  {
   "cell_type": "code",
   "execution_count": 7,
   "id": "4fb1756d-07f6-4759-bb4a-6da00dbd25b8",
   "metadata": {},
   "outputs": [
    {
     "name": "stdout",
     "output_type": "stream",
     "text": [
      "✅ Training samples: 49988\n",
      "✅ Testing samples: 12497\n"
     ]
    }
   ],
   "source": [
    "from sklearn.model_selection import train_test_split\n",
    "\n",
    "X_train, X_test, y_train, y_test = train_test_split(\n",
    "    X, y, test_size=0.2, random_state=42, stratify=y\n",
    ")\n",
    "\n",
    "print(\"✅ Training samples:\", X_train.shape[0])\n",
    "print(\"✅ Testing samples:\", X_test.shape[0])\n"
   ]
  },
  {
   "cell_type": "code",
   "execution_count": 8,
   "id": "50d21064-d3c0-4ebf-9567-fb60dcefad3e",
   "metadata": {},
   "outputs": [
    {
     "name": "stdout",
     "output_type": "stream",
     "text": [
      "✅ Model trained successfully!\n"
     ]
    }
   ],
   "source": [
    "from sklearn.ensemble import RandomForestClassifier\n",
    "\n",
    "model = RandomForestClassifier(\n",
    "    n_estimators=200,       # number of trees\n",
    "    max_depth=20,           # limit tree depth (to prevent overfitting)\n",
    "    random_state=42,\n",
    "    n_jobs=-1               # use all CPU cores\n",
    ")\n",
    "\n",
    "model.fit(X_train, y_train)\n",
    "print(\"✅ Model trained successfully!\")\n"
   ]
  },
  {
   "cell_type": "code",
   "execution_count": 9,
   "id": "1bca0fad-50fc-4753-8415-30a9b7f7b631",
   "metadata": {},
   "outputs": [
    {
     "name": "stdout",
     "output_type": "stream",
     "text": [
      "🔹 Accuracy: 0.9965\n",
      "🔹 ROC-AUC: 0.9998\n",
      "\n",
      "Classification Report:\n",
      "               precision    recall  f1-score   support\n",
      "\n",
      "           0       1.00      1.00      1.00      7073\n",
      "           1       1.00      0.99      1.00      5424\n",
      "\n",
      "    accuracy                           1.00     12497\n",
      "   macro avg       1.00      1.00      1.00     12497\n",
      "weighted avg       1.00      1.00      1.00     12497\n",
      "\n"
     ]
    },
    {
     "data": {
      "image/png": "[encoded data removed]",
      "text/plain": [
       "<Figure size 500x400 with 2 Axes>"
      ]
     },
     "metadata": {},
     "output_type": "display_data"
    }
   ],
   "source": [
    "from sklearn.metrics import accuracy_score, classification_report, confusion_matrix, roc_auc_score\n",
    "import seaborn as sns\n",
    "import matplotlib.pyplot as plt\n",
    "\n",
    "# Predictions\n",
    "y_pred = model.predict(X_test)\n",
    "y_prob = model.predict_proba(X_test)[:, 1]  # probability for class 1\n",
    "\n",
    "# Metrics\n",
    "print(f\"🔹 Accuracy: {accuracy_score(y_test, y_pred):.4f}\")\n",
    "print(f\"🔹 ROC-AUC: {roc_auc_score(y_test, y_prob):.4f}\")\n",
    "print(\"\\nClassification Report:\\n\", classification_report(y_test, y_pred))\n",
    "\n",
    "# Confusion Matrix\n",
    "plt.figure(figsize=(5,4))\n",
    "sns.heatmap(confusion_matrix(y_test, y_pred), annot=True, fmt='d', cmap='Blues')\n",
    "plt.title(\"Confusion Matrix\")\n",
    "plt.xlabel(\"Predicted\")\n",
    "plt.ylabel(\"True\")\n",
    "plt.show()\n"
   ]
  },
  {
   "cell_type": "code",
   "execution_count": 10,
   "id": "bd73051a-1f32-4c71-8112-d2f11e66c9ff",
   "metadata": {},
   "outputs": [
    {
     "name": "stdout",
     "output_type": "stream",
     "text": [
      "\n",
      "🔍 Prediction for test sample:\n",
      "Prediction: Benign\n",
      "Confidence: 0.00\n"
     ]
    }
   ],
   "source": [
    "# Pick a random sample from test set\n",
    "sample = X_test.sample(1, random_state=42)\n",
    "prediction = model.predict(sample)[0]\n",
    "probability = model.predict_proba(sample)[0][1]\n",
    "\n",
    "print(\"\\n🔍 Prediction for test sample:\")\n",
    "print(\"Prediction:\", \"Ransomware\" if prediction == 1 else \"Benign\")\n",
    "print(f\"Confidence: {probability:.2f}\")\n"
   ]
  },
  {
   "cell_type": "code",
   "execution_count": 11,
   "id": "731b71d4-a783-4022-8f9f-741753fd4e3b",
   "metadata": {},
   "outputs": [
    {
     "name": "stdout",
     "output_type": "stream",
     "text": [
      "✅ Model saved as ransomware_model.pkl\n"
     ]
    }
   ],
   "source": [
    "import joblib\n",
    "\n",
    "joblib.dump(model, \"ransomware_model.pkl\")\n",
    "print(\"✅ Model saved as ransomware_model.pkl\")\n"
   ]
  },
  {
   "cell_type": "code",
   "execution_count": 12,
   "id": "fdc9a2ea-e992-4119-8709-a1236fdbbacb",
   "metadata": {},
   "outputs": [
    {
     "name": "stdout",
     "output_type": "stream",
     "text": [
      "✅ Model and feature list saved to models/ransomware_model.pkl\n"
     ]
    }
   ],
   "source": [
    "import joblib\n",
    "import os\n",
    "\n",
    "# Create a folder for models\n",
    "os.makedirs(\"models\", exist_ok=True)\n",
    "\n",
    "# Save both model and feature names as a dictionary\n",
    "model_data = {\n",
    "    \"model\": model,\n",
    "    \"features\": X.columns.tolist()\n",
    "}\n",
    "\n",
    "# Save it as one pickle file\n",
    "joblib.dump(model_data, \"models/ransomware_model.pkl\")\n",
    "\n",
    "print(\"✅ Model and feature list saved to models/ransomware_model.pkl\")\n"
   ]
  },
  {
   "cell_type": "code",
   "execution_count": 13,
   "id": "41700039-f757-40b3-ad33-3b960a1bb5a2",
   "metadata": {},
   "outputs": [
    {
     "name": "stdout",
     "output_type": "stream",
     "text": [
      "✅ Model loaded successfully!\n",
      "🧩 Expected features: ['Machine', 'DebugSize', 'DebugRVA', 'MajorImageVersion', 'MajorOSVersion', 'ExportRVA', 'ExportSize', 'IatVRA', 'MajorLinkerVersion', 'MinorLinkerVersion', 'NumberOfSections', 'SizeOfStackReserve', 'DllCharacteristics', 'ResourceSize', 'BitcoinAddresses']\n"
     ]
    }
   ],
   "source": [
    "import joblib\n",
    "\n",
    "# Load the saved dictionary\n",
    "model_data = joblib.load(\"models/ransomware_model.pkl\")\n",
    "\n",
    "model = model_data[\"model\"]\n",
    "feature_names = model_data[\"features\"]\n",
    "\n",
    "print(\"✅ Model loaded successfully!\")\n",
    "print(\"🧩 Expected features:\", feature_names)\n"
   ]
  },
  {
   "cell_type": "code",
   "execution_count": 15,
   "id": "94e1a7bf-dd2b-45e2-bbc3-dea3230fa73d",
   "metadata": {},
   "outputs": [
    {
     "ename": "NameError",
     "evalue": "name 'uploaded_file' is not defined",
     "output_type": "error",
     "traceback": [
      "\u001b[31m---------------------------------------------------------------------------\u001b[39m",
      "\u001b[31mNameError\u001b[39m                                 Traceback (most recent call last)",
      "\u001b[36mCell\u001b[39m\u001b[36m \u001b[39m\u001b[32mIn[15]\u001b[39m\u001b[32m, line 1\u001b[39m\n\u001b[32m----> \u001b[39m\u001b[32m1\u001b[39m uploaded_data = pd.read_csv(\u001b[43muploaded_file\u001b[49m)\n\u001b[32m      3\u001b[39m \u001b[38;5;66;03m# Ensure same column order\u001b[39;00m\n\u001b[32m      4\u001b[39m uploaded_data = uploaded_data[feature_names]\n",
      "\u001b[31mNameError\u001b[39m: name 'uploaded_file' is not defined"
     ]
    }
   ],
   "source": [
    "uploaded_data = pd.read_csv(uploaded_file)\n",
    "\n",
    "# Ensure same column order\n",
    "uploaded_data = uploaded_data[feature_names]\n",
    "\n",
    "# Predict\n",
    "preds = model.predict(uploaded_data)\n"
   ]
  },
  {
   "cell_type": "code",
   "execution_count": null,
   "id": "073f3461-e126-4bbe-a82f-f33fcedcd776",
   "metadata": {},
   "outputs": [],
   "source": []
  }
 ],
 "metadata": {
  "kernelspec": {
   "display_name": "Python 3 (ipykernel)",
   "language": "python",
   "name": "python3"
  },
  "language_info": {
   "codemirror_mode": {
    "name": "ipython",
    "version": 3
   },
   "file_extension": ".py",
   "mimetype": "text/x-python",
   "name": "python",
   "nbconvert_exporter": "python",
   "pygments_lexer": "ipython3",
   "version": "3.11.9"
  }
 },
 "nbformat": 4,
 "nbformat_minor": 5
}
